{
 "cells": [
  {
   "cell_type": "code",
   "execution_count": 1,
   "id": "5ee4cbee-dfd6-47ec-83b3-6080eeadf3ac",
   "metadata": {},
   "outputs": [
    {
     "name": "stdout",
     "output_type": "stream",
     "text": [
      "Requirement already satisfied: kurveclient in /Users/wesmadrigal/projects/kurveai/kurveclient/venv/lib/python3.10/site-packages (0.1.1)\n",
      "Requirement already satisfied: bs4 in /Users/wesmadrigal/projects/kurveai/kurveclient/venv/lib/python3.10/site-packages (from kurveclient) (0.0.2)\n",
      "Requirement already satisfied: fastapi in /Users/wesmadrigal/projects/kurveai/kurveclient/venv/lib/python3.10/site-packages (from kurveclient) (0.115.2)\n",
      "Requirement already satisfied: uvicorn in /Users/wesmadrigal/projects/kurveai/kurveclient/venv/lib/python3.10/site-packages (from kurveclient) (0.31.1)\n",
      "Requirement already satisfied: pandas in /Users/wesmadrigal/projects/kurveai/kurveclient/venv/lib/python3.10/site-packages (from kurveclient) (2.2.3)\n",
      "Requirement already satisfied: python-multipart in /Users/wesmadrigal/projects/kurveai/kurveclient/venv/lib/python3.10/site-packages (from kurveclient) (0.0.12)\n",
      "Requirement already satisfied: pydantic-settings in /Users/wesmadrigal/projects/kurveai/kurveclient/venv/lib/python3.10/site-packages (from kurveclient) (2.5.2)\n",
      "Requirement already satisfied: structlog in /Users/wesmadrigal/projects/kurveai/kurveclient/venv/lib/python3.10/site-packages (from kurveclient) (24.4.0)\n",
      "Requirement already satisfied: requests in /Users/wesmadrigal/projects/kurveai/kurveclient/venv/lib/python3.10/site-packages (from kurveclient) (2.32.3)\n",
      "Requirement already satisfied: rich in /Users/wesmadrigal/projects/kurveai/kurveclient/venv/lib/python3.10/site-packages (from kurveclient) (13.9.2)\n",
      "Requirement already satisfied: typer in /Users/wesmadrigal/projects/kurveai/kurveclient/venv/lib/python3.10/site-packages (from kurveclient) (0.12.5)\n",
      "Requirement already satisfied: beautifulsoup4 in /Users/wesmadrigal/projects/kurveai/kurveclient/venv/lib/python3.10/site-packages (from bs4->kurveclient) (4.12.3)\n",
      "Requirement already satisfied: starlette<0.41.0,>=0.37.2 in /Users/wesmadrigal/projects/kurveai/kurveclient/venv/lib/python3.10/site-packages (from fastapi->kurveclient) (0.39.2)\n",
      "Requirement already satisfied: pydantic!=1.8,!=1.8.1,!=2.0.0,!=2.0.1,!=2.1.0,<3.0.0,>=1.7.4 in /Users/wesmadrigal/projects/kurveai/kurveclient/venv/lib/python3.10/site-packages (from fastapi->kurveclient) (2.9.2)\n",
      "Requirement already satisfied: typing-extensions>=4.8.0 in /Users/wesmadrigal/projects/kurveai/kurveclient/venv/lib/python3.10/site-packages (from fastapi->kurveclient) (4.12.2)\n",
      "Requirement already satisfied: fastapi-cli>=0.0.5 in /Users/wesmadrigal/projects/kurveai/kurveclient/venv/lib/python3.10/site-packages (from fastapi-cli[standard]>=0.0.5; extra == \"standard\"->fastapi[standard]->kurveclient) (0.0.5)\n",
      "Requirement already satisfied: httpx>=0.23.0 in /Users/wesmadrigal/projects/kurveai/kurveclient/venv/lib/python3.10/site-packages (from fastapi[standard]->kurveclient) (0.27.2)\n",
      "Requirement already satisfied: jinja2>=2.11.2 in /Users/wesmadrigal/projects/kurveai/kurveclient/venv/lib/python3.10/site-packages (from fastapi[standard]->kurveclient) (3.1.4)\n",
      "Requirement already satisfied: email-validator>=2.0.0 in /Users/wesmadrigal/projects/kurveai/kurveclient/venv/lib/python3.10/site-packages (from fastapi[standard]->kurveclient) (2.2.0)\n",
      "Requirement already satisfied: click>=7.0 in /Users/wesmadrigal/projects/kurveai/kurveclient/venv/lib/python3.10/site-packages (from uvicorn->kurveclient) (8.1.7)\n",
      "Requirement already satisfied: h11>=0.8 in /Users/wesmadrigal/projects/kurveai/kurveclient/venv/lib/python3.10/site-packages (from uvicorn->kurveclient) (0.14.0)\n",
      "Requirement already satisfied: numpy>=1.22.4 in /Users/wesmadrigal/projects/kurveai/kurveclient/venv/lib/python3.10/site-packages (from pandas->kurveclient) (1.26.4)\n",
      "Requirement already satisfied: python-dateutil>=2.8.2 in /Users/wesmadrigal/projects/kurveai/kurveclient/venv/lib/python3.10/site-packages (from pandas->kurveclient) (2.9.0.post0)\n",
      "Requirement already satisfied: pytz>=2020.1 in /Users/wesmadrigal/projects/kurveai/kurveclient/venv/lib/python3.10/site-packages (from pandas->kurveclient) (2024.2)\n",
      "Requirement already satisfied: tzdata>=2022.7 in /Users/wesmadrigal/projects/kurveai/kurveclient/venv/lib/python3.10/site-packages (from pandas->kurveclient) (2024.2)\n",
      "Requirement already satisfied: python-dotenv>=0.21.0 in /Users/wesmadrigal/projects/kurveai/kurveclient/venv/lib/python3.10/site-packages (from pydantic-settings->kurveclient) (1.0.1)\n",
      "Requirement already satisfied: charset-normalizer<4,>=2 in /Users/wesmadrigal/projects/kurveai/kurveclient/venv/lib/python3.10/site-packages (from requests->kurveclient) (3.4.0)\n",
      "Requirement already satisfied: idna<4,>=2.5 in /Users/wesmadrigal/projects/kurveai/kurveclient/venv/lib/python3.10/site-packages (from requests->kurveclient) (3.10)\n",
      "Requirement already satisfied: urllib3<3,>=1.21.1 in /Users/wesmadrigal/projects/kurveai/kurveclient/venv/lib/python3.10/site-packages (from requests->kurveclient) (2.2.3)\n",
      "Requirement already satisfied: certifi>=2017.4.17 in /Users/wesmadrigal/projects/kurveai/kurveclient/venv/lib/python3.10/site-packages (from requests->kurveclient) (2024.8.30)\n",
      "Requirement already satisfied: markdown-it-py>=2.2.0 in /Users/wesmadrigal/projects/kurveai/kurveclient/venv/lib/python3.10/site-packages (from rich->kurveclient) (3.0.0)\n",
      "Requirement already satisfied: pygments<3.0.0,>=2.13.0 in /Users/wesmadrigal/projects/kurveai/kurveclient/venv/lib/python3.10/site-packages (from rich->kurveclient) (2.18.0)\n",
      "Requirement already satisfied: shellingham>=1.3.0 in /Users/wesmadrigal/projects/kurveai/kurveclient/venv/lib/python3.10/site-packages (from typer->kurveclient) (1.5.4)\n",
      "Requirement already satisfied: dnspython>=2.0.0 in /Users/wesmadrigal/projects/kurveai/kurveclient/venv/lib/python3.10/site-packages (from email-validator>=2.0.0->fastapi[standard]->kurveclient) (2.7.0)\n",
      "Requirement already satisfied: anyio in /Users/wesmadrigal/projects/kurveai/kurveclient/venv/lib/python3.10/site-packages (from httpx>=0.23.0->fastapi[standard]->kurveclient) (4.6.0)\n",
      "Requirement already satisfied: httpcore==1.* in /Users/wesmadrigal/projects/kurveai/kurveclient/venv/lib/python3.10/site-packages (from httpx>=0.23.0->fastapi[standard]->kurveclient) (1.0.6)\n",
      "Requirement already satisfied: sniffio in /Users/wesmadrigal/projects/kurveai/kurveclient/venv/lib/python3.10/site-packages (from httpx>=0.23.0->fastapi[standard]->kurveclient) (1.3.1)\n",
      "Requirement already satisfied: MarkupSafe>=2.0 in /Users/wesmadrigal/projects/kurveai/kurveclient/venv/lib/python3.10/site-packages (from jinja2>=2.11.2->fastapi[standard]->kurveclient) (3.0.1)\n",
      "Requirement already satisfied: mdurl~=0.1 in /Users/wesmadrigal/projects/kurveai/kurveclient/venv/lib/python3.10/site-packages (from markdown-it-py>=2.2.0->rich->kurveclient) (0.1.2)\n",
      "Requirement already satisfied: annotated-types>=0.6.0 in /Users/wesmadrigal/projects/kurveai/kurveclient/venv/lib/python3.10/site-packages (from pydantic!=1.8,!=1.8.1,!=2.0.0,!=2.0.1,!=2.1.0,<3.0.0,>=1.7.4->fastapi->kurveclient) (0.7.0)\n",
      "Requirement already satisfied: pydantic-core==2.23.4 in /Users/wesmadrigal/projects/kurveai/kurveclient/venv/lib/python3.10/site-packages (from pydantic!=1.8,!=1.8.1,!=2.0.0,!=2.0.1,!=2.1.0,<3.0.0,>=1.7.4->fastapi->kurveclient) (2.23.4)\n",
      "Requirement already satisfied: six>=1.5 in /Users/wesmadrigal/projects/kurveai/kurveclient/venv/lib/python3.10/site-packages (from python-dateutil>=2.8.2->pandas->kurveclient) (1.16.0)\n",
      "Requirement already satisfied: httptools>=0.5.0 in /Users/wesmadrigal/projects/kurveai/kurveclient/venv/lib/python3.10/site-packages (from uvicorn[standard]>=0.12.0; extra == \"standard\"->fastapi[standard]->kurveclient) (0.6.2)\n",
      "Requirement already satisfied: pyyaml>=5.1 in /Users/wesmadrigal/projects/kurveai/kurveclient/venv/lib/python3.10/site-packages (from uvicorn[standard]>=0.12.0; extra == \"standard\"->fastapi[standard]->kurveclient) (6.0.2)\n",
      "Requirement already satisfied: uvloop!=0.15.0,!=0.15.1,>=0.14.0 in /Users/wesmadrigal/projects/kurveai/kurveclient/venv/lib/python3.10/site-packages (from uvicorn[standard]>=0.12.0; extra == \"standard\"->fastapi[standard]->kurveclient) (0.21.0)\n",
      "Requirement already satisfied: watchfiles>=0.13 in /Users/wesmadrigal/projects/kurveai/kurveclient/venv/lib/python3.10/site-packages (from uvicorn[standard]>=0.12.0; extra == \"standard\"->fastapi[standard]->kurveclient) (0.24.0)\n",
      "Requirement already satisfied: websockets>=10.4 in /Users/wesmadrigal/projects/kurveai/kurveclient/venv/lib/python3.10/site-packages (from uvicorn[standard]>=0.12.0; extra == \"standard\"->fastapi[standard]->kurveclient) (13.1)\n",
      "Requirement already satisfied: soupsieve>1.2 in /Users/wesmadrigal/projects/kurveai/kurveclient/venv/lib/python3.10/site-packages (from beautifulsoup4->bs4->kurveclient) (2.6)\n",
      "Requirement already satisfied: exceptiongroup>=1.0.2 in /Users/wesmadrigal/projects/kurveai/kurveclient/venv/lib/python3.10/site-packages (from anyio->httpx>=0.23.0->fastapi[standard]->kurveclient) (1.2.2)\n",
      "\n",
      "\u001b[1m[\u001b[0m\u001b[34;49mnotice\u001b[0m\u001b[1;39;49m]\u001b[0m\u001b[39;49m A new release of pip is available: \u001b[0m\u001b[31;49m24.2\u001b[0m\u001b[39;49m -> \u001b[0m\u001b[32;49m24.3.1\u001b[0m\n",
      "\u001b[1m[\u001b[0m\u001b[34;49mnotice\u001b[0m\u001b[1;39;49m]\u001b[0m\u001b[39;49m To update, run: \u001b[0m\u001b[32;49mpip install --upgrade pip\u001b[0m\n"
     ]
    }
   ],
   "source": [
    "!pip install kurveclient"
   ]
  },
  {
   "cell_type": "code",
   "execution_count": 2,
   "id": "f85204e4-3d0c-4186-9379-8e12320dfc67",
   "metadata": {},
   "outputs": [],
   "source": [
    "from kurveclient.auth import do_auth\n",
    "from kurveclient.interaction import whoami, map_local_source"
   ]
  },
  {
   "cell_type": "code",
   "execution_count": 3,
   "id": "f8e336fb-d2d3-4531-b96f-ede84e6e30e9",
   "metadata": {},
   "outputs": [
    {
     "data": {
      "text/html": [
       "<pre style=\"white-space:pre;overflow-x:auto;line-height:normal;font-family:Menlo,'DejaVu Sans Mono',consolas,'Courier New',monospace\"><span style=\"color: #008000; text-decoration-color: #008000\">Tokens not expired!</span>\n",
       "</pre>\n"
      ],
      "text/plain": [
       "\u001b[32mTokens not expired!\u001b[0m\n"
      ]
     },
     "metadata": {},
     "output_type": "display_data"
    }
   ],
   "source": [
    "# Authenticate\n",
    "do_auth()"
   ]
  },
  {
   "cell_type": "code",
   "execution_count": 4,
   "id": "b1035379-b756-42f8-9b70-e13a2f1de309",
   "metadata": {},
   "outputs": [
    {
     "data": {
      "text/plain": [
       "{'hello': 'from user 2 with email wes@kurve.ai'}"
      ]
     },
     "execution_count": 4,
     "metadata": {},
     "output_type": "execute_result"
    }
   ],
   "source": [
    "whoami()"
   ]
  },
  {
   "cell_type": "code",
   "execution_count": 5,
   "id": "64ae4c3a-4326-4407-818a-6fd4f7ddca15",
   "metadata": {},
   "outputs": [],
   "source": [
    "# Map a local data source\n",
    "#!wget https://github.com/kurveai/kurveclient/raw/refs/heads/main/examples/data/cust_data.zip\n",
    "#!unzip cust_data.zip"
   ]
  },
  {
   "cell_type": "code",
   "execution_count": null,
   "id": "412ae89b-e1eb-4921-9df1-8e625339025e",
   "metadata": {},
   "outputs": [],
   "source": []
  },
  {
   "cell_type": "code",
   "execution_count": 6,
   "id": "03e2c908-6262-418f-b2af-c644cad7a796",
   "metadata": {},
   "outputs": [],
   "source": [
    "#unzip data\n",
    "import pathlib"
   ]
  },
  {
   "cell_type": "code",
   "execution_count": 7,
   "id": "57ed9c38-092a-4bf8-944d-c0649a3a49a8",
   "metadata": {},
   "outputs": [],
   "source": [
    "p = pathlib.Path('./cust_data')"
   ]
  },
  {
   "cell_type": "code",
   "execution_count": 8,
   "id": "c27f29d2-f2a0-4648-a903-3b05b13748da",
   "metadata": {},
   "outputs": [],
   "source": [
    "from kurveclient.interaction import map_local_source"
   ]
  },
  {
   "cell_type": "code",
   "execution_count": 9,
   "id": "7b73c245-c17c-4638-abd5-03c00476404f",
   "metadata": {},
   "outputs": [
    {
     "data": {
      "text/plain": [
       "{'error': {'code': 409,\n",
       "  'message': 'graph already exists for 1',\n",
       "  'status': 'CONFLICT'}}"
      ]
     },
     "execution_count": 9,
     "metadata": {},
     "output_type": "execute_result"
    }
   ],
   "source": [
    "map_local_source(path=p.absolute(), storage_format='csv')"
   ]
  },
  {
   "cell_type": "code",
   "execution_count": 10,
   "id": "80a985ba-0d34-4645-aaa4-cd5d08ab82de",
   "metadata": {},
   "outputs": [],
   "source": [
    "from kurveclient.interaction import list_sources, list_graphs, list_nodes, list_edges"
   ]
  },
  {
   "cell_type": "code",
   "execution_count": 11,
   "id": "3be96955-8a6e-4266-bcca-6bac6040e72b",
   "metadata": {},
   "outputs": [
    {
     "data": {
      "text/plain": [
       "{'data': [{'created_at': 'Wed, 30 Oct 2024 14:50:53 GMT',\n",
       "   'environment': None,\n",
       "   'graph_id': None,\n",
       "   'id': 1,\n",
       "   'identifier': 's3://kurve-customers/4ea9c944-2c46-4e38-89f6-a58903c5f0fc/Users/wesmadrigal/projects/kurveai/kurveclient/examples/cust_data?schema=None&format=csv',\n",
       "   'ignore_namespaces': None,\n",
       "   'ignore_schemas': None,\n",
       "   'is_open': False,\n",
       "   'namespace': '4ea9c944-2c46-4e38-89f6-a58903c5f0fc/Users/wesmadrigal/projects/kurveai/kurveclient/examples/cust_data',\n",
       "   'original_directory': '/Users/wesmadrigal/projects/kurveai/kurveclient/examples/cust_data',\n",
       "   'original_provider_id': 1,\n",
       "   'provider': 's3',\n",
       "   'provider_id': 2,\n",
       "   'schema': None,\n",
       "   'source_type': 'filesystem',\n",
       "   'storage_format': 'csv',\n",
       "   'tenant': 'kurve-customers',\n",
       "   'updated_at': None,\n",
       "   'user_id': 2},\n",
       "  {'created_at': 'Wed, 30 Oct 2024 14:58:09 GMT',\n",
       "   'environment': None,\n",
       "   'graph_id': None,\n",
       "   'id': 2,\n",
       "   'identifier': 's3://kurve-customers/4ea9c944-2c46-4e38-89f6-a58903c5f0fc/Users/wesmadrigal/projects/kurveai/kurveclient/examples/movie_data?schema=None&format=csv',\n",
       "   'ignore_namespaces': None,\n",
       "   'ignore_schemas': None,\n",
       "   'is_open': False,\n",
       "   'namespace': '4ea9c944-2c46-4e38-89f6-a58903c5f0fc/Users/wesmadrigal/projects/kurveai/kurveclient/examples/movie_data',\n",
       "   'original_directory': '/Users/wesmadrigal/projects/kurveai/kurveclient/examples/movie_data',\n",
       "   'original_provider_id': 1,\n",
       "   'provider': 's3',\n",
       "   'provider_id': 2,\n",
       "   'schema': None,\n",
       "   'source_type': 'filesystem',\n",
       "   'storage_format': 'csv',\n",
       "   'tenant': 'kurve-customers',\n",
       "   'updated_at': None,\n",
       "   'user_id': 2}],\n",
       " 'message': 'success'}"
      ]
     },
     "execution_count": 11,
     "metadata": {},
     "output_type": "execute_result"
    }
   ],
   "source": [
    "list_sources()"
   ]
  },
  {
   "cell_type": "code",
   "execution_count": 12,
   "id": "34251f95-c49c-4cdf-ba27-b9b30ad60e9f",
   "metadata": {},
   "outputs": [
    {
     "data": {
      "text/plain": [
       "{'data': [{'created_at': 'Wed, 30 Oct 2024 14:55:38 GMT',\n",
       "   'graph_type': 'inferred',\n",
       "   'id': 1,\n",
       "   'name': 'user_id=2 and source_id=1',\n",
       "   'namespace': '4ea9c944-2c46-4e38-89f6-a58903c5f0fc/Users/wesmadrigal/projects/kurveai/kurveclient/examples/cust_data',\n",
       "   'provider': 's3',\n",
       "   'schema': None,\n",
       "   'source_id': 1,\n",
       "   'source_type': 'filesystem',\n",
       "   'tenant': 'kurve-customers',\n",
       "   'updated_at': None,\n",
       "   'user_id': 2,\n",
       "   'viewable_only_by_user': True},\n",
       "  {'created_at': 'Wed, 30 Oct 2024 15:00:49 GMT',\n",
       "   'graph_type': 'inferred',\n",
       "   'id': 2,\n",
       "   'name': 'user_id=2 and source_id=2',\n",
       "   'namespace': '4ea9c944-2c46-4e38-89f6-a58903c5f0fc/Users/wesmadrigal/projects/kurveai/kurveclient/examples/movie_data',\n",
       "   'provider': 's3',\n",
       "   'schema': None,\n",
       "   'source_id': 2,\n",
       "   'source_type': 'filesystem',\n",
       "   'tenant': 'kurve-customers',\n",
       "   'updated_at': None,\n",
       "   'user_id': 2,\n",
       "   'viewable_only_by_user': True}],\n",
       " 'message': 'success'}"
      ]
     },
     "execution_count": 12,
     "metadata": {},
     "output_type": "execute_result"
    }
   ],
   "source": [
    "list_graphs()"
   ]
  },
  {
   "cell_type": "code",
   "execution_count": null,
   "id": "89e7de4e-b917-44fd-88e7-ffac852f956e",
   "metadata": {},
   "outputs": [],
   "source": []
  },
  {
   "cell_type": "code",
   "execution_count": null,
   "id": "d141cd14-21a6-4f27-aabd-8fd48e0157da",
   "metadata": {},
   "outputs": [],
   "source": []
  }
 ],
 "metadata": {
  "kernelspec": {
   "display_name": "Python 3 (ipykernel)",
   "language": "python",
   "name": "python3"
  },
  "language_info": {
   "codemirror_mode": {
    "name": "ipython",
    "version": 3
   },
   "file_extension": ".py",
   "mimetype": "text/x-python",
   "name": "python",
   "nbconvert_exporter": "python",
   "pygments_lexer": "ipython3",
   "version": "3.10.14"
  }
 },
 "nbformat": 4,
 "nbformat_minor": 5
}
