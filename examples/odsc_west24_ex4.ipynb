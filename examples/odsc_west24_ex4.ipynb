{
 "cells": [
  {
   "cell_type": "code",
   "execution_count": 2,
   "id": "4f5f4353-73f7-4b79-bd75-3e5c8a676ab2",
   "metadata": {},
   "outputs": [],
   "source": [
    "# highlighting interoperability and integration with catalogs\n",
    "\n",
    "import os\n",
    "\n",
    "import yaml\n",
    "from kurveclient.interaction import (\n",
    "    create_source,\n",
    "    create_graph,\n",
    "    whoami,\n",
    "    list_sources,\n",
    "    list_graphs,\n",
    "    list_nodes,\n",
    "    list_edges\n",
    ")\n",
    "from kurveclient.models import RestCatalogPayload"
   ]
  },
  {
   "cell_type": "code",
   "execution_count": 3,
   "id": "3e494960-0766-423d-89a2-f6f05b3e8233",
   "metadata": {},
   "outputs": [
    {
     "data": {
      "text/plain": [
       "{'hello': 'from user 2 with email wes@kurve.ai'}"
      ]
     },
     "execution_count": 3,
     "metadata": {},
     "output_type": "execute_result"
    }
   ],
   "source": [
    "whoami()"
   ]
  },
  {
   "cell_type": "code",
   "execution_count": 4,
   "id": "5252b96a-1db4-4010-b529-89b8adac70bb",
   "metadata": {},
   "outputs": [],
   "source": [
    "creds = yaml.safe_load(open(os.path.join(os.path.expanduser('~'), '.pyiceberg.yaml'), 'r'))"
   ]
  },
  {
   "cell_type": "code",
   "execution_count": 5,
   "id": "d755e26c-43ca-498e-98a7-ddfdb4ae3efd",
   "metadata": {},
   "outputs": [],
   "source": [
    "payload = RestCatalogPayload(\n",
    "    provider='catalog',\n",
    "    catalog_name='kurve_s3_catalog',\n",
    "    catalog_type='rest',\n",
    "    catalog_uri=creds['catalog']['default']['uri'],\n",
    "    catalog_namespaces='cust_data',\n",
    "    catalog_credential=creds['catalog']['default']['credential'],\n",
    "    catalog_scope=creds['catalog']['default']['role']\n",
    ")"
   ]
  },
  {
   "cell_type": "code",
   "execution_count": 6,
   "id": "b911d98f-56e7-4937-8372-934a7a206262",
   "metadata": {},
   "outputs": [],
   "source": [
    "resp = create_source(payload)"
   ]
  },
  {
   "cell_type": "code",
   "execution_count": 7,
   "id": "04473996-875c-4b89-a077-609a171406be",
   "metadata": {},
   "outputs": [
    {
     "data": {
      "text/plain": [
       "{'data': {'created_at': 'Wed, 30 Oct 2024 17:10:44 GMT',\n",
       "  'environment': None,\n",
       "  'graph_id': None,\n",
       "  'id': 3,\n",
       "  'identifier': 'catalog://https://drb40708.us-east-1.snowflakecomputing.com/polaris/api/catalog/kurve_s3_catalog?schema=cust_data&format=relational',\n",
       "  'ignore_namespaces': None,\n",
       "  'ignore_schemas': None,\n",
       "  'is_open': False,\n",
       "  'namespace': 'kurve_s3_catalog',\n",
       "  'original_directory': None,\n",
       "  'original_provider_id': None,\n",
       "  'provider': 'catalog',\n",
       "  'provider_id': 9,\n",
       "  'schema': 'cust_data',\n",
       "  'source_type': 'filesystem',\n",
       "  'storage_format': 'relational',\n",
       "  'tenant': 'https://drb40708.us-east-1.snowflakecomputing.com/polaris/api/catalog',\n",
       "  'updated_at': None,\n",
       "  'user_id': 2},\n",
       " 'message': 'success'}"
      ]
     },
     "execution_count": 7,
     "metadata": {},
     "output_type": "execute_result"
    }
   ],
   "source": [
    "resp"
   ]
  },
  {
   "cell_type": "code",
   "execution_count": 8,
   "id": "b0816f1b-2f45-4b2c-b0b5-4f80d84969e0",
   "metadata": {},
   "outputs": [],
   "source": [
    "source_id = [x for x in list_sources()['data'] if x['namespace'] == 'kurve_s3_catalog'][0]['id']"
   ]
  },
  {
   "cell_type": "code",
   "execution_count": 9,
   "id": "a9141e10-cae2-426d-a981-9fc5901541fb",
   "metadata": {},
   "outputs": [
    {
     "data": {
      "text/plain": [
       "{'data': {'algorithm': 'FastFK',\n",
       "  'build_finished_at': None,\n",
       "  'build_started_at': 'Wed, 30 Oct 2024 23:11:30 GMT',\n",
       "  'graph_id': None,\n",
       "  'id': 3,\n",
       "  'source_id': 3,\n",
       "  'user_id': 2},\n",
       " 'message': 'processing'}"
      ]
     },
     "execution_count": 9,
     "metadata": {},
     "output_type": "execute_result"
    }
   ],
   "source": [
    "create_graph(source_id)"
   ]
  },
  {
   "cell_type": "code",
   "execution_count": 48,
   "id": "8632a892-9591-4d19-9f7b-ddbe19b1ccd3",
   "metadata": {},
   "outputs": [
    {
     "data": {
      "text/plain": [
       "{'data': [{'created_at': 'Wed, 30 Oct 2024 14:06:01 GMT',\n",
       "   'graph_type': 'inferred',\n",
       "   'id': 1,\n",
       "   'name': 'user_id=2 and source_id=1',\n",
       "   'namespace': 'kurve_s3_catalog',\n",
       "   'provider': 'catalog',\n",
       "   'schema': 'cust_data',\n",
       "   'source_id': 1,\n",
       "   'source_type': 'filesystem',\n",
       "   'tenant': 'https://drb40708.us-east-1.snowflakecomputing.com/polaris/api/catalog',\n",
       "   'updated_at': None,\n",
       "   'user_id': 2,\n",
       "   'viewable_only_by_user': True}],\n",
       " 'message': 'success'}"
      ]
     },
     "execution_count": 48,
     "metadata": {},
     "output_type": "execute_result"
    }
   ],
   "source": [
    "list_graphs()"
   ]
  },
  {
   "cell_type": "code",
   "execution_count": null,
   "id": "73357a64-4e54-47cd-9539-64d1acd14c92",
   "metadata": {},
   "outputs": [],
   "source": []
  },
  {
   "cell_type": "code",
   "execution_count": null,
   "id": "6aba210e-511d-4c31-99f4-ab3280d45a57",
   "metadata": {},
   "outputs": [],
   "source": []
  }
 ],
 "metadata": {
  "kernelspec": {
   "display_name": "Python 3 (ipykernel)",
   "language": "python",
   "name": "python3"
  },
  "language_info": {
   "codemirror_mode": {
    "name": "ipython",
    "version": 3
   },
   "file_extension": ".py",
   "mimetype": "text/x-python",
   "name": "python",
   "nbconvert_exporter": "python",
   "pygments_lexer": "ipython3",
   "version": "3.10.14"
  }
 },
 "nbformat": 4,
 "nbformat_minor": 5
}
