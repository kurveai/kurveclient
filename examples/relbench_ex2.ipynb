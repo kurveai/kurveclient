{
 "cells": [
  {
   "cell_type": "code",
   "execution_count": 2,
   "id": "f807a9b2-0cb5-4b91-9146-bf73b118aac4",
   "metadata": {},
   "outputs": [],
   "source": [
    "# After you have built and executed a compute graph\n",
    "# on https://demo.kurve.ai load the resultant\n",
    "# dataset here."
   ]
  },
  {
   "cell_type": "code",
   "execution_count": 3,
   "id": "169ba754-fbaf-4483-8549-149b691568ea",
   "metadata": {},
   "outputs": [],
   "source": [
    "# we'll be focused on the user badge problem first\n",
    "# https://relbench.stanford.edu/datasets/rel-stack/#post-votes"
   ]
  },
  {
   "cell_type": "code",
   "execution_count": 125,
   "id": "9d560594-9d97-4989-8f10-7e69c857da84",
   "metadata": {},
   "outputs": [],
   "source": [
    "import pandas as pd\n",
    "from sklearn import metrics\n",
    "from sklearn.model_selection import train_test_split\n",
    "import catboost\n",
    "from torch_frame.utils import infer_df_stype"
   ]
  },
  {
   "cell_type": "code",
   "execution_count": 126,
   "id": "263adb20-1ef0-4d32-af74-c6b8e166ae3d",
   "metadata": {},
   "outputs": [],
   "source": [
    "# we'll be focused on the user badge problem first\n",
    "# https://relbench.stanford.edu/datasets/rel-stack/#user-badge"
   ]
  },
  {
   "cell_type": "code",
   "execution_count": 154,
   "id": "40cb115a-52a3-4c3e-9da5-d45e82174b3d",
   "metadata": {},
   "outputs": [],
   "source": [
    "df = pd.read_parquet('s3://kurve-customers/d6cfbf12-6265-4ffa-b741-84a7f767fbff/24/output/relbench_stackex_post_votes_train')"
   ]
  },
  {
   "cell_type": "code",
   "execution_count": 155,
   "id": "4534f913-e4ec-4a4c-adb2-df6146541f79",
   "metadata": {},
   "outputs": [
    {
     "data": {
      "text/plain": [
       "(206263, 210)"
      ]
     },
     "execution_count": 155,
     "metadata": {},
     "output_type": "execute_result"
    }
   ],
   "source": [
    "df.shape"
   ]
  },
  {
   "cell_type": "code",
   "execution_count": 156,
   "id": "752fe8cb-0f34-4294-b2dd-452f2ca8f926",
   "metadata": {},
   "outputs": [
    {
     "data": {
      "text/html": [
       "<div>\n",
       "<style scoped>\n",
       "    .dataframe tbody tr th:only-of-type {\n",
       "        vertical-align: middle;\n",
       "    }\n",
       "\n",
       "    .dataframe tbody tr th {\n",
       "        vertical-align: top;\n",
       "    }\n",
       "\n",
       "    .dataframe thead th {\n",
       "        text-align: right;\n",
       "    }\n",
       "</style>\n",
       "<table border=\"1\" class=\"dataframe\">\n",
       "  <thead>\n",
       "    <tr style=\"text-align: right;\">\n",
       "      <th></th>\n",
       "      <th>post_Id</th>\n",
       "      <th>post_OwnerUserId</th>\n",
       "      <th>post_LastEditorUserId</th>\n",
       "      <th>post_PostTypeId</th>\n",
       "      <th>post_Title</th>\n",
       "      <th>post_Tags</th>\n",
       "      <th>post_Body</th>\n",
       "      <th>post_CreationDate</th>\n",
       "      <th>post_title_length</th>\n",
       "      <th>post_body_length</th>\n",
       "      <th>...</th>\n",
       "      <th>comm_comment_length_avg</th>\n",
       "      <th>comm_comment_length_sum</th>\n",
       "      <th>comm_comment_length_min</th>\n",
       "      <th>comm_comment_length_max</th>\n",
       "      <th>comm_num_events_30d</th>\n",
       "      <th>comm_num_events_60d</th>\n",
       "      <th>comm_num_events_90d</th>\n",
       "      <th>comm_num_events_180d</th>\n",
       "      <th>comm_num_events_365d</th>\n",
       "      <th>comm_num_events_730d</th>\n",
       "    </tr>\n",
       "  </thead>\n",
       "  <tbody>\n",
       "    <tr>\n",
       "      <th>0</th>\n",
       "      <td>204745</td>\n",
       "      <td>29025</td>\n",
       "      <td>&lt;NA&gt;</td>\n",
       "      <td>1</td>\n",
       "      <td>Preventing overfitting of LSTM on small dataset</td>\n",
       "      <td>&lt;deep-learning&gt;&lt;regularization&gt;&lt;overfitting&gt;&lt;l...</td>\n",
       "      <td>&lt;p&gt;I'm modeling 15000 tweets for sentiment pre...</td>\n",
       "      <td>2016-03-31 13:46:08.497</td>\n",
       "      <td>47</td>\n",
       "      <td>839</td>\n",
       "      <td>...</td>\n",
       "      <td>233.0</td>\n",
       "      <td>233.0</td>\n",
       "      <td>233</td>\n",
       "      <td>233</td>\n",
       "      <td>0.0</td>\n",
       "      <td>0.0</td>\n",
       "      <td>0.0</td>\n",
       "      <td>0.0</td>\n",
       "      <td>0.0</td>\n",
       "      <td>0.0</td>\n",
       "    </tr>\n",
       "    <tr>\n",
       "      <th>1</th>\n",
       "      <td>483284</td>\n",
       "      <td>29107</td>\n",
       "      <td>29107</td>\n",
       "      <td>1</td>\n",
       "      <td>can the maximum likelihood estimator depend on...</td>\n",
       "      <td>&lt;maximum-likelihood&gt;&lt;mathematical-statistics&gt;</td>\n",
       "      <td>&lt;p&gt;That is, say I have a distribution with par...</td>\n",
       "      <td>2020-08-16 23:06:11.933</td>\n",
       "      <td>67</td>\n",
       "      <td>621</td>\n",
       "      <td>...</td>\n",
       "      <td>381.0</td>\n",
       "      <td>762.0</td>\n",
       "      <td>272</td>\n",
       "      <td>490</td>\n",
       "      <td>0.0</td>\n",
       "      <td>0.0</td>\n",
       "      <td>0.0</td>\n",
       "      <td>2.0</td>\n",
       "      <td>2.0</td>\n",
       "      <td>2.0</td>\n",
       "    </tr>\n",
       "  </tbody>\n",
       "</table>\n",
       "<p>2 rows × 210 columns</p>\n",
       "</div>"
      ],
      "text/plain": [
       "   post_Id  post_OwnerUserId  post_LastEditorUserId  post_PostTypeId  \\\n",
       "0   204745             29025                   <NA>                1   \n",
       "1   483284             29107                  29107                1   \n",
       "\n",
       "                                          post_Title  \\\n",
       "0    Preventing overfitting of LSTM on small dataset   \n",
       "1  can the maximum likelihood estimator depend on...   \n",
       "\n",
       "                                           post_Tags  \\\n",
       "0  <deep-learning><regularization><overfitting><l...   \n",
       "1      <maximum-likelihood><mathematical-statistics>   \n",
       "\n",
       "                                           post_Body       post_CreationDate  \\\n",
       "0  <p>I'm modeling 15000 tweets for sentiment pre... 2016-03-31 13:46:08.497   \n",
       "1  <p>That is, say I have a distribution with par... 2020-08-16 23:06:11.933   \n",
       "\n",
       "   post_title_length  post_body_length  ...  comm_comment_length_avg  \\\n",
       "0                 47               839  ...                    233.0   \n",
       "1                 67               621  ...                    381.0   \n",
       "\n",
       "   comm_comment_length_sum comm_comment_length_min comm_comment_length_max  \\\n",
       "0                    233.0                     233                     233   \n",
       "1                    762.0                     272                     490   \n",
       "\n",
       "   comm_num_events_30d  comm_num_events_60d  comm_num_events_90d  \\\n",
       "0                  0.0                  0.0                  0.0   \n",
       "1                  0.0                  0.0                  0.0   \n",
       "\n",
       "   comm_num_events_180d comm_num_events_365d comm_num_events_730d  \n",
       "0                   0.0                  0.0                  0.0  \n",
       "1                   2.0                  2.0                  2.0  \n",
       "\n",
       "[2 rows x 210 columns]"
      ]
     },
     "execution_count": 156,
     "metadata": {},
     "output_type": "execute_result"
    }
   ],
   "source": [
    "df.head(2)"
   ]
  },
  {
   "cell_type": "code",
   "execution_count": 157,
   "id": "72fb11b8-6d40-4e41-a8bc-cff2d0c81aad",
   "metadata": {},
   "outputs": [
    {
     "data": {
      "text/plain": [
       "['vote_Id_label']"
      ]
     },
     "execution_count": 157,
     "metadata": {},
     "output_type": "execute_result"
    }
   ],
   "source": [
    "# get the label\n",
    "[c for c in df.columns if 'label' in c]"
   ]
  },
  {
   "cell_type": "code",
   "execution_count": 158,
   "id": "d4b553ac-27a5-45e1-93a9-ca5d37343b51",
   "metadata": {},
   "outputs": [
    {
     "data": {
      "text/plain": [
       "0            1\n",
       "1            1\n",
       "2            1\n",
       "3            1\n",
       "4            1\n",
       "          ... \n",
       "206258       1\n",
       "206259       1\n",
       "206260       2\n",
       "206261    <NA>\n",
       "206262    <NA>\n",
       "Name: vote_Id_label, Length: 206263, dtype: Int64"
      ]
     },
     "execution_count": 158,
     "metadata": {},
     "output_type": "execute_result"
    }
   ],
   "source": [
    "label = [c for c in df.columns if 'label' in c][0]\n",
    "df[label]\n"
   ]
  },
  {
   "cell_type": "code",
   "execution_count": 159,
   "id": "fa9d67c9-31b2-4454-8cae-2823f74e9603",
   "metadata": {},
   "outputs": [],
   "source": [
    "df[label] = df[label].apply(lambda x: x if not pd.isnull(x) else 0)"
   ]
  },
  {
   "cell_type": "code",
   "execution_count": 160,
   "id": "b085731c-47f0-4ad5-a6ad-b9e2b83b3ebc",
   "metadata": {},
   "outputs": [
    {
     "data": {
      "text/plain": [
       "0.07681940047415194"
      ]
     },
     "execution_count": 160,
     "metadata": {},
     "output_type": "execute_result"
    }
   ],
   "source": [
    "df[label].mean()"
   ]
  },
  {
   "cell_type": "code",
   "execution_count": 161,
   "id": "631cc9ba-336c-4020-8816-9e709f1e643d",
   "metadata": {},
   "outputs": [
    {
     "data": {
      "text/plain": [
       "Timestamp('2009-02-02 14:21:12.103000')"
      ]
     },
     "execution_count": 161,
     "metadata": {},
     "output_type": "execute_result"
    }
   ],
   "source": [
    "df['post_CreationDate'].min()"
   ]
  },
  {
   "cell_type": "code",
   "execution_count": 162,
   "id": "b78a5a15-3046-41ef-99a0-428a2d9251d6",
   "metadata": {},
   "outputs": [],
   "source": [
    "import datetime"
   ]
  },
  {
   "cell_type": "code",
   "execution_count": 163,
   "id": "e6a9bbbe-d72a-482a-8b6b-108c4361a10f",
   "metadata": {},
   "outputs": [],
   "source": [
    "cut = datetime.datetime(2021, 1, 1)\n"
   ]
  },
  {
   "cell_type": "code",
   "execution_count": 164,
   "id": "71eea7d9-3db5-4ff8-bf61-d926fe92aad8",
   "metadata": {},
   "outputs": [
    {
     "data": {
      "text/plain": [
       "(160903, 210)"
      ]
     },
     "execution_count": 164,
     "metadata": {},
     "output_type": "execute_result"
    }
   ],
   "source": [
    "df[df['post_CreationDate']<cut].shape"
   ]
  },
  {
   "cell_type": "code",
   "execution_count": 165,
   "id": "7a1854fb-14d9-486d-aaac-0977141d9468",
   "metadata": {},
   "outputs": [],
   "source": [
    "df = df[df['post_CreationDate']<cut]"
   ]
  },
  {
   "cell_type": "code",
   "execution_count": 166,
   "id": "ec33ec3c-314a-4a61-94a6-2630b6adb3bb",
   "metadata": {},
   "outputs": [],
   "source": [
    "df['post_timesincepost'] = df.apply(lambda x: (cut-x['post_CreationDate']).total_seconds(), axis=1)"
   ]
  },
  {
   "cell_type": "code",
   "execution_count": 167,
   "id": "8e995151-e02b-4400-aaac-cdc3b2ec7542",
   "metadata": {},
   "outputs": [],
   "source": [
    "train, test = train_test_split(df)"
   ]
  },
  {
   "cell_type": "code",
   "execution_count": 168,
   "id": "9832efa7-0f37-49f9-9fea-1e435ffefb2b",
   "metadata": {},
   "outputs": [
    {
     "data": {
      "text/plain": [
       "(120677, 211)"
      ]
     },
     "execution_count": 168,
     "metadata": {},
     "output_type": "execute_result"
    }
   ],
   "source": [
    "train.shape"
   ]
  },
  {
   "cell_type": "code",
   "execution_count": 169,
   "id": "ed6b585b-14e8-4e12-ab2f-92e2f622a61b",
   "metadata": {},
   "outputs": [
    {
     "data": {
      "text/plain": [
       "(40226, 211)"
      ]
     },
     "execution_count": 169,
     "metadata": {},
     "output_type": "execute_result"
    }
   ],
   "source": [
    "test.shape"
   ]
  },
  {
   "cell_type": "code",
   "execution_count": 170,
   "id": "1fc69fc2-acd7-4333-9f77-cc454b0ca9c0",
   "metadata": {},
   "outputs": [],
   "source": [
    "stypes = infer_df_stype(df)"
   ]
  },
  {
   "cell_type": "code",
   "execution_count": 171,
   "id": "a0e3f214-4435-40c0-8f00-fa86150e00fa",
   "metadata": {},
   "outputs": [],
   "source": [
    "features = [\n",
    "    k for k,v in stypes.items()\n",
    "    if str(v) == 'numerical'\n",
    "    and not k.startswith('User_')\n",
    "    and 'label' not in k\n",
    "    and k not in ['post_Id',\n",
    " 'post_OwnerUserId',\n",
    " 'post_LastEditorUserId',\n",
    " 'post_body_length',\n",
    " 'post_tag_length',\n",
    " 'user_AccountId']\n",
    "]"
   ]
  },
  {
   "cell_type": "code",
   "execution_count": 172,
   "id": "bcf60f24-822f-48a4-aef8-b7c8d881be31",
   "metadata": {},
   "outputs": [
    {
     "data": {
      "text/plain": [
       "['badge_Id_count',\n",
       " 'badge_UserId_count',\n",
       " 'badge_Class_count',\n",
       " 'badge_TagBased_sum',\n",
       " 'badge_num_events_30d',\n",
       " 'badge_num_events_60d',\n",
       " 'badge_num_events_180d',\n",
       " 'badge_num_events_365d',\n",
       " 'badge_num_events_730d',\n",
       " 'usercomm_Id_count',\n",
       " 'usercomm_PostId_count',\n",
       " 'usercomm_UserId_count',\n",
       " 'usercomm_comment_len_avg',\n",
       " 'usercomm_comment_len_sum',\n",
       " 'usercomm_comment_len_min',\n",
       " 'usercomm_num_events_30d',\n",
       " 'usercomm_num_events_60d',\n",
       " 'usercomm_num_events_90d',\n",
       " 'usercomm_num_events_180d',\n",
       " 'usercomm_num_events_365d',\n",
       " 'usercomm_num_events_730d',\n",
       " 'userpost_body_length_avg',\n",
       " 'userpost_body_length_sum',\n",
       " 'userpost_body_length_min',\n",
       " 'userpost_body_length_max',\n",
       " 'userpost_title_length_avg',\n",
       " 'userpost_tag_length_avg',\n",
       " 'userpost_tag_length_sum',\n",
       " 'userpost_tag_length_min',\n",
       " 'userpost_tag_length_max',\n",
       " 'subcomm_Id_count_avg',\n",
       " 'subcomm_Id_count_min',\n",
       " 'subcomm_Id_count_max',\n",
       " 'subcomm_PostId_count_avg',\n",
       " 'subcomm_PostId_count_min',\n",
       " 'subcomm_PostId_count_max',\n",
       " 'subcomm_UserId_count_avg',\n",
       " 'subcomm_UserId_count_min',\n",
       " 'subcomm_UserId_count_max',\n",
       " 'subcomm_num_events_30d_avg',\n",
       " 'subcomm_num_events_30d_sum',\n",
       " 'subcomm_num_events_30d_min',\n",
       " 'subcomm_num_events_30d_max',\n",
       " 'subcomm_num_events_180d_avg',\n",
       " 'subcomm_num_events_180d_min',\n",
       " 'subcomm_num_events_365d_avg',\n",
       " 'subcomm_num_events_365d_min',\n",
       " 'subcomm_num_events_730d_avg',\n",
       " 'subcomm_num_events_730d_min',\n",
       " 'uservote_Id_count_avg',\n",
       " 'uservote_Id_count_sum',\n",
       " 'uservote_Id_count_min',\n",
       " 'uservote_Id_count_max',\n",
       " 'uservote_PostId_count_avg',\n",
       " 'uservote_PostId_count_sum',\n",
       " 'uservote_PostId_count_min',\n",
       " 'uservote_PostId_count_max',\n",
       " 'uservote_VoteTypeId_count_avg',\n",
       " 'uservote_VoteTypeId_count_sum',\n",
       " 'uservote_VoteTypeId_count_min',\n",
       " 'uservote_VoteTypeId_count_max',\n",
       " 'uservote_num_events_30d_avg',\n",
       " 'uservote_num_events_30d_min',\n",
       " 'uservote_num_events_30d_max',\n",
       " 'uservote_num_events_60d_avg',\n",
       " 'uservote_num_events_60d_sum',\n",
       " 'uservote_num_events_60d_min',\n",
       " 'uservote_num_events_60d_max',\n",
       " 'uservote_num_events_90d_avg',\n",
       " 'uservote_num_events_90d_sum',\n",
       " 'uservote_num_events_90d_min',\n",
       " 'uservote_num_events_90d_max',\n",
       " 'uservote_num_events_180d_avg',\n",
       " 'uservote_num_events_180d_sum',\n",
       " 'uservote_num_events_180d_min',\n",
       " 'uservote_num_events_180d_max',\n",
       " 'uservote_num_events_365d_avg',\n",
       " 'uservote_num_events_365d_min',\n",
       " 'uservote_num_events_365d_max',\n",
       " 'uservote_num_events_730d_avg',\n",
       " 'uservote_num_events_730d_sum',\n",
       " 'uservote_num_events_730d_min',\n",
       " 'uservote_num_events_730d_max',\n",
       " 'pl_Id_count',\n",
       " 'pl_RelatedPostId_count',\n",
       " 'pl_PostId_count',\n",
       " 'pl_LinkTypeId_count',\n",
       " 'pl_num_events_30d',\n",
       " 'pl_num_events_60d',\n",
       " 'pl_num_events_90d',\n",
       " 'pl_num_events_180d',\n",
       " 'pl_num_events_365d',\n",
       " 'pl_num_events_730d',\n",
       " 'ph_Id_count',\n",
       " 'ph_PostId_count',\n",
       " 'ph_UserId_count',\n",
       " 'ph_txt_length_avg',\n",
       " 'ph_txt_length_sum',\n",
       " 'ph_txt_length_min',\n",
       " 'ph_txt_length_max',\n",
       " 'ph_comment_length_avg',\n",
       " 'ph_comment_length_sum',\n",
       " 'ph_comment_length_min',\n",
       " 'ph_comment_length_max',\n",
       " 'ph_num_events_30d',\n",
       " 'ph_num_events_60d',\n",
       " 'ph_num_events_90d',\n",
       " 'ph_num_events_180d',\n",
       " 'ph_num_events_365d',\n",
       " 'ph_num_events_730d',\n",
       " 'vote_Id_count',\n",
       " 'vote_PostId_count',\n",
       " 'vote_VoteTypeId_count',\n",
       " 'vote_num_events_30d',\n",
       " 'vote_num_events_60d',\n",
       " 'vote_num_events_90d',\n",
       " 'vote_num_events_180d',\n",
       " 'vote_num_events_365d',\n",
       " 'vote_num_events_730d',\n",
       " 'comm_Id_count',\n",
       " 'comm_PostId_count',\n",
       " 'comm_UserId_count',\n",
       " 'comm_comment_length_avg',\n",
       " 'comm_comment_length_sum',\n",
       " 'comm_comment_length_min',\n",
       " 'comm_num_events_30d',\n",
       " 'comm_num_events_60d',\n",
       " 'comm_num_events_90d',\n",
       " 'comm_num_events_180d',\n",
       " 'comm_num_events_365d',\n",
       " 'comm_num_events_730d',\n",
       " 'post_timesincepost']"
      ]
     },
     "execution_count": 172,
     "metadata": {},
     "output_type": "execute_result"
    }
   ],
   "source": [
    "features"
   ]
  },
  {
   "cell_type": "code",
   "execution_count": 173,
   "id": "89b20ca2-4ff2-48ce-b055-aebafd3a2dd6",
   "metadata": {},
   "outputs": [],
   "source": [
    "from catboost import CatBoostRegressor\n",
    "\n",
    "model = CatBoostRegressor(\n",
    "    iterations=1000,\n",
    "    learning_rate=0.1,\n",
    "    depth=7,\n",
    "    l2_leaf_reg=3,\n",
    "    loss_function='MAE',\n",
    "    eval_metric='MAE',\n",
    "    random_seed=42,\n",
    "    early_stopping_rounds=10,\n",
    "    verbose=100\n",
    ")"
   ]
  },
  {
   "cell_type": "code",
   "execution_count": 174,
   "id": "18842080-30fa-44e2-9769-e72fddf2a6b2",
   "metadata": {},
   "outputs": [
    {
     "name": "stdout",
     "output_type": "stream",
     "text": [
      "0:\tlearn: 0.0660805\ttotal: 19.9ms\tremaining: 19.9s\n",
      "100:\tlearn: 0.0620874\ttotal: 1.62s\tremaining: 14.5s\n",
      "200:\tlearn: 0.0620278\ttotal: 3.02s\tremaining: 12s\n",
      "300:\tlearn: 0.0620096\ttotal: 4.45s\tremaining: 10.3s\n",
      "400:\tlearn: 0.0619923\ttotal: 5.88s\tremaining: 8.79s\n",
      "500:\tlearn: 0.0619923\ttotal: 7.32s\tremaining: 7.29s\n",
      "600:\tlearn: 0.0619923\ttotal: 8.75s\tremaining: 5.81s\n",
      "700:\tlearn: 0.0619858\ttotal: 10.1s\tremaining: 4.33s\n",
      "800:\tlearn: 0.0619789\ttotal: 11.4s\tremaining: 2.83s\n",
      "900:\tlearn: 0.0619733\ttotal: 12.6s\tremaining: 1.39s\n",
      "999:\tlearn: 0.0619732\ttotal: 13.8s\tremaining: 0us\n"
     ]
    },
    {
     "data": {
      "text/plain": [
       "<catboost.core.CatBoostRegressor at 0x40e7beec0>"
      ]
     },
     "execution_count": 174,
     "metadata": {},
     "output_type": "execute_result"
    }
   ],
   "source": [
    "model.fit(train[features], train[label])"
   ]
  },
  {
   "cell_type": "code",
   "execution_count": 175,
   "id": "7a509f57-5e16-42d3-9e14-f5b6b836c736",
   "metadata": {},
   "outputs": [],
   "source": [
    "test['pred'] = model.predict(test[features])"
   ]
  },
  {
   "cell_type": "code",
   "execution_count": 176,
   "id": "46f7d312-599f-4630-b07c-8146d5fa7537",
   "metadata": {},
   "outputs": [
    {
     "name": "stdout",
     "output_type": "stream",
     "text": [
      "0.06298511761771242\n"
     ]
    }
   ],
   "source": [
    "print(metrics.mean_absolute_error(test[label],test['pred']))"
   ]
  },
  {
   "cell_type": "code",
   "execution_count": null,
   "id": "4948ec96-c995-490f-be43-dab559fcfdb7",
   "metadata": {},
   "outputs": [],
   "source": []
  },
  {
   "cell_type": "code",
   "execution_count": null,
   "id": "388defe1-72d9-48a7-bb79-c5ce002b75ef",
   "metadata": {},
   "outputs": [],
   "source": []
  }
 ],
 "metadata": {
  "kernelspec": {
   "display_name": "Python 3 (ipykernel)",
   "language": "python",
   "name": "python3"
  },
  "language_info": {
   "codemirror_mode": {
    "name": "ipython",
    "version": 3
   },
   "file_extension": ".py",
   "mimetype": "text/x-python",
   "name": "python",
   "nbconvert_exporter": "python",
   "pygments_lexer": "ipython3",
   "version": "3.10.14"
  }
 },
 "nbformat": 4,
 "nbformat_minor": 5
}
